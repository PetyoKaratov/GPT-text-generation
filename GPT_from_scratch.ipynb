{
  "nbformat": 4,
  "nbformat_minor": 0,
  "metadata": {
    "colab": {
      "provenance": [],
      "mount_file_id": "1m29VteJrTVudESOCtgL88DS6G8jzswS1",
      "authorship_tag": "ABX9TyO8JwqY380+D/NqBNdSbJN2",
      "include_colab_link": true
    },
    "kernelspec": {
      "name": "python3",
      "display_name": "Python 3"
    },
    "language_info": {
      "name": "python"
    },
    "accelerator": "GPU",
    "gpuClass": "standard"
  },
  "cells": [
    {
      "cell_type": "markdown",
      "metadata": {
        "id": "view-in-github",
        "colab_type": "text"
      },
      "source": [
        "<a href=\"https://colab.research.google.com/github/PetyoKaratov/GPT-text-generation/blob/main/GPT_from_scratch.ipynb\" target=\"_parent\"><img src=\"https://colab.research.google.com/assets/colab-badge.svg\" alt=\"Open In Colab\"/></a>"
      ]
    },
    {
      "cell_type": "code",
      "execution_count": null,
      "metadata": {
        "id": "ikILW0fE0cX5",
        "colab": {
          "base_uri": "https://localhost:8080/"
        },
        "outputId": "d34edc36-819f-4819-8d11-7c372afbc0b5"
      },
      "outputs": [
        {
          "output_type": "stream",
          "name": "stdout",
          "text": [
            "Drive already mounted at /content/drive; to attempt to forcibly remount, call drive.mount(\"/content/drive\", force_remount=True).\n"
          ]
        }
      ],
      "source": [
        "from google.colab import drive\n",
        "drive.mount('/content/drive')"
      ]
    },
    {
      "cell_type": "code",
      "source": [
        "# read it in to inspect it\n",
        "with open('/content/drive/My Drive/concat.txt', 'r', encoding='utf-8') as f:\n",
        "    text = f.read()"
      ],
      "metadata": {
        "id": "rFfgJWa062eb"
      },
      "execution_count": null,
      "outputs": []
    },
    {
      "cell_type": "code",
      "source": [
        "print(\"length of dataset in characters: \", len(text))"
      ],
      "metadata": {
        "colab": {
          "base_uri": "https://localhost:8080/"
        },
        "id": "L09u5oRk8Drr",
        "outputId": "c538d639-06ee-4a1c-c7ac-e326dd377ad5"
      },
      "execution_count": null,
      "outputs": [
        {
          "output_type": "stream",
          "name": "stdout",
          "text": [
            "length of dataset in characters:  3897561\n"
          ]
        }
      ]
    },
    {
      "cell_type": "code",
      "source": [
        "# let's look at the first 1000 characters\n",
        "print(text[:1000])"
      ],
      "metadata": {
        "colab": {
          "base_uri": "https://localhost:8080/"
        },
        "id": "fevTqQCU8L0S",
        "outputId": "ecc94457-bc8c-492b-f72d-6dd0f4fae610"
      },
      "execution_count": null,
      "outputs": [
        {
          "output_type": "stream",
          "name": "stdout",
          "text": [
            "\n",
            "\n",
            "\n",
            "High up, crowning the grassy summit of a swelling mound whose sides are wooded near the base\n",
            "with the gnarled trees of the primeval forest, stands the old chateau of my ancestors. For centuries\n",
            "its lofty battlements have frowned down upon the wild and rugged countryside about, serving\n",
            "as a home and stronghold for the proud house whose honoured line is older even than the moss-grown\n",
            "castle walls. These ancient turrets, stained by the storms of generations and crumbling under\n",
            "the slow yet mighty pressure of time, formed in the ages of feudalism one of the most dreaded\n",
            "and formidable fortresses in all France. From its machicolated parapets and mounted battlements\n",
            "Barons, Counts, and even Kings had been defied, yet never had its spacious halls resounded to\n",
            "the footsteps of the invader.\n",
            "But since those glorious years all is changed. A poverty but little above the\n",
            "level of dire want, together with a pride of name that forbids its alleviation by the pursuits\n",
            "of commercial life, have preven\n"
          ]
        }
      ]
    },
    {
      "cell_type": "code",
      "source": [
        "# here are all the unique characters that occur in this text\n",
        "chars = sorted(list(set(text)))\n",
        "vocab_size = len(chars)\n",
        "print(''.join(chars))\n",
        "print(vocab_size)"
      ],
      "metadata": {
        "colab": {
          "base_uri": "https://localhost:8080/"
        },
        "id": "AuHIxp9v8X7C",
        "outputId": "2434cb2e-3f93-4b39-a0f7-4e9eff7ee91e"
      },
      "execution_count": null,
      "outputs": [
        {
          "output_type": "stream",
          "name": "stdout",
          "text": [
            "\n",
            " !#$&'()*,-./0123456789:;?ABCDEFGHIJKLMNOPQRSTUVWXYZ[]abcdefghijklmnopqrstuvwxyz| ¡¢£°·½¿ÁÅÆÉÑÓ×áâäæèéêëíïñóöúüΝΟΠΣΥαδἶ–—‘’“”•′″\n",
            "129\n"
          ]
        }
      ]
    },
    {
      "cell_type": "code",
      "source": [
        "# create a mapping from characters to integers\n",
        "stoi = { ch:i for i,ch in enumerate(chars) }\n",
        "itos = { i:ch for i,ch in enumerate(chars) }\n",
        "encode = lambda s: [stoi[c] for c in s] # encoder: take a string, output a list of integers\n",
        "decode = lambda l: ''.join([itos[i] for i in l]) # decoder: take a list of integers, output a string\n",
        "\n",
        "print(encode(\"hii there\"))\n",
        "print(decode(encode(\"hii there\")))"
      ],
      "metadata": {
        "colab": {
          "base_uri": "https://localhost:8080/"
        },
        "id": "1B0Yd8fTA_IX",
        "outputId": "15d17613-7ed6-480a-db7e-8118022eac5f"
      },
      "execution_count": null,
      "outputs": [
        {
          "output_type": "stream",
          "name": "stdout",
          "text": [
            "[62, 63, 63, 1, 74, 62, 59, 72, 59]\n",
            "hii there\n"
          ]
        }
      ]
    },
    {
      "cell_type": "code",
      "source": [
        "# let's now encode the entire text dataset and store it into a torch.Tensor\n",
        "import torch # we use PyTorch: https://pytorch.org\n",
        "data = torch.tensor(encode(text), dtype=torch.long)\n",
        "print(data.shape, data.dtype)\n",
        "print(data[:1000]) # the 1000 characters we looked at earier will to the GPT look like this"
      ],
      "metadata": {
        "colab": {
          "base_uri": "https://localhost:8080/"
        },
        "id": "Q-Qd9HU0B3WF",
        "outputId": "d7f6e90e-e2eb-4de9-e2b0-8bf6f3488cd6"
      },
      "execution_count": null,
      "outputs": [
        {
          "output_type": "stream",
          "name": "stdout",
          "text": [
            "torch.Size([3897561]) torch.int64\n",
            "tensor([ 0,  0,  0, 34, 63, 61, 62,  1, 75, 70, 10,  1, 57, 72, 69, 77, 68, 63,\n",
            "        68, 61,  1, 74, 62, 59,  1, 61, 72, 55, 73, 73, 79,  1, 73, 75, 67, 67,\n",
            "        63, 74,  1, 69, 60,  1, 55,  1, 73, 77, 59, 66, 66, 63, 68, 61,  1, 67,\n",
            "        69, 75, 68, 58,  1, 77, 62, 69, 73, 59,  1, 73, 63, 58, 59, 73,  1, 55,\n",
            "        72, 59,  1, 77, 69, 69, 58, 59, 58,  1, 68, 59, 55, 72,  1, 74, 62, 59,\n",
            "         1, 56, 55, 73, 59,  0, 77, 63, 74, 62,  1, 74, 62, 59,  1, 61, 68, 55,\n",
            "        72, 66, 59, 58,  1, 74, 72, 59, 59, 73,  1, 69, 60,  1, 74, 62, 59,  1,\n",
            "        70, 72, 63, 67, 59, 76, 55, 66,  1, 60, 69, 72, 59, 73, 74, 10,  1, 73,\n",
            "        74, 55, 68, 58, 73,  1, 74, 62, 59,  1, 69, 66, 58,  1, 57, 62, 55, 74,\n",
            "        59, 55, 75,  1, 69, 60,  1, 67, 79,  1, 55, 68, 57, 59, 73, 74, 69, 72,\n",
            "        73, 12,  1, 32, 69, 72,  1, 57, 59, 68, 74, 75, 72, 63, 59, 73,  0, 63,\n",
            "        74, 73,  1, 66, 69, 60, 74, 79,  1, 56, 55, 74, 74, 66, 59, 67, 59, 68,\n",
            "        74, 73,  1, 62, 55, 76, 59,  1, 60, 72, 69, 77, 68, 59, 58,  1, 58, 69,\n",
            "        77, 68,  1, 75, 70, 69, 68,  1, 74, 62, 59,  1, 77, 63, 66, 58,  1, 55,\n",
            "        68, 58,  1, 72, 75, 61, 61, 59, 58,  1, 57, 69, 75, 68, 74, 72, 79, 73,\n",
            "        63, 58, 59,  1, 55, 56, 69, 75, 74, 10,  1, 73, 59, 72, 76, 63, 68, 61,\n",
            "         0, 55, 73,  1, 55,  1, 62, 69, 67, 59,  1, 55, 68, 58,  1, 73, 74, 72,\n",
            "        69, 68, 61, 62, 69, 66, 58,  1, 60, 69, 72,  1, 74, 62, 59,  1, 70, 72,\n",
            "        69, 75, 58,  1, 62, 69, 75, 73, 59,  1, 77, 62, 69, 73, 59,  1, 62, 69,\n",
            "        68, 69, 75, 72, 59, 58,  1, 66, 63, 68, 59,  1, 63, 73,  1, 69, 66, 58,\n",
            "        59, 72,  1, 59, 76, 59, 68,  1, 74, 62, 55, 68,  1, 74, 62, 59,  1, 67,\n",
            "        69, 73, 73, 11, 61, 72, 69, 77, 68,  0, 57, 55, 73, 74, 66, 59,  1, 77,\n",
            "        55, 66, 66, 73, 12,  1, 46, 62, 59, 73, 59,  1, 55, 68, 57, 63, 59, 68,\n",
            "        74,  1, 74, 75, 72, 72, 59, 74, 73, 10,  1, 73, 74, 55, 63, 68, 59, 58,\n",
            "         1, 56, 79,  1, 74, 62, 59,  1, 73, 74, 69, 72, 67, 73,  1, 69, 60,  1,\n",
            "        61, 59, 68, 59, 72, 55, 74, 63, 69, 68, 73,  1, 55, 68, 58,  1, 57, 72,\n",
            "        75, 67, 56, 66, 63, 68, 61,  1, 75, 68, 58, 59, 72,  0, 74, 62, 59,  1,\n",
            "        73, 66, 69, 77,  1, 79, 59, 74,  1, 67, 63, 61, 62, 74, 79,  1, 70, 72,\n",
            "        59, 73, 73, 75, 72, 59,  1, 69, 60,  1, 74, 63, 67, 59, 10,  1, 60, 69,\n",
            "        72, 67, 59, 58,  1, 63, 68,  1, 74, 62, 59,  1, 55, 61, 59, 73,  1, 69,\n",
            "        60,  1, 60, 59, 75, 58, 55, 66, 63, 73, 67,  1, 69, 68, 59,  1, 69, 60,\n",
            "         1, 74, 62, 59,  1, 67, 69, 73, 74,  1, 58, 72, 59, 55, 58, 59, 58,  0,\n",
            "        55, 68, 58,  1, 60, 69, 72, 67, 63, 58, 55, 56, 66, 59,  1, 60, 69, 72,\n",
            "        74, 72, 59, 73, 73, 59, 73,  1, 63, 68,  1, 55, 66, 66,  1, 32, 72, 55,\n",
            "        68, 57, 59, 12,  1, 32, 72, 69, 67,  1, 63, 74, 73,  1, 67, 55, 57, 62,\n",
            "        63, 57, 69, 66, 55, 74, 59, 58,  1, 70, 55, 72, 55, 70, 59, 74, 73,  1,\n",
            "        55, 68, 58,  1, 67, 69, 75, 68, 74, 59, 58,  1, 56, 55, 74, 74, 66, 59,\n",
            "        67, 59, 68, 74, 73,  0, 28, 55, 72, 69, 68, 73, 10,  1, 29, 69, 75, 68,\n",
            "        74, 73, 10,  1, 55, 68, 58,  1, 59, 76, 59, 68,  1, 37, 63, 68, 61, 73,\n",
            "         1, 62, 55, 58,  1, 56, 59, 59, 68,  1, 58, 59, 60, 63, 59, 58, 10,  1,\n",
            "        79, 59, 74,  1, 68, 59, 76, 59, 72,  1, 62, 55, 58,  1, 63, 74, 73,  1,\n",
            "        73, 70, 55, 57, 63, 69, 75, 73,  1, 62, 55, 66, 66, 73,  1, 72, 59, 73,\n",
            "        69, 75, 68, 58, 59, 58,  1, 74, 69,  0, 74, 62, 59,  1, 60, 69, 69, 74,\n",
            "        73, 74, 59, 70, 73,  1, 69, 60,  1, 74, 62, 59,  1, 63, 68, 76, 55, 58,\n",
            "        59, 72, 12,  0, 28, 75, 74,  1, 73, 63, 68, 57, 59,  1, 74, 62, 69, 73,\n",
            "        59,  1, 61, 66, 69, 72, 63, 69, 75, 73,  1, 79, 59, 55, 72, 73,  1, 55,\n",
            "        66, 66,  1, 63, 73,  1, 57, 62, 55, 68, 61, 59, 58, 12,  1, 27,  1, 70,\n",
            "        69, 76, 59, 72, 74, 79,  1, 56, 75, 74,  1, 66, 63, 74, 74, 66, 59,  1,\n",
            "        55, 56, 69, 76, 59,  1, 74, 62, 59,  0, 66, 59, 76, 59, 66,  1, 69, 60,\n",
            "         1, 58, 63, 72, 59,  1, 77, 55, 68, 74, 10,  1, 74, 69, 61, 59, 74, 62,\n",
            "        59, 72,  1, 77, 63, 74, 62,  1, 55,  1, 70, 72, 63, 58, 59,  1, 69, 60,\n",
            "         1, 68, 55, 67, 59,  1, 74, 62, 55, 74,  1, 60, 69, 72, 56, 63, 58, 73,\n",
            "         1, 63, 74, 73,  1, 55, 66, 66, 59, 76, 63, 55, 74, 63, 69, 68,  1, 56,\n",
            "        79,  1, 74, 62, 59,  1, 70, 75, 72, 73, 75, 63, 74, 73,  0, 69, 60,  1,\n",
            "        57, 69, 67, 67, 59, 72, 57, 63, 55, 66,  1, 66, 63, 60, 59, 10,  1, 62,\n",
            "        55, 76, 59,  1, 70, 72, 59, 76, 59, 68])\n"
          ]
        }
      ]
    },
    {
      "cell_type": "code",
      "source": [
        "# Let's now split up the data into train and validation sets\n",
        "n = int(0.9*len(data)) # first 90% will be train, rest val\n",
        "train_data = data[:n]\n",
        "val_data = data[n:]"
      ],
      "metadata": {
        "id": "ePhBd6VrCHdS"
      },
      "execution_count": null,
      "outputs": []
    },
    {
      "cell_type": "code",
      "source": [
        "block_size = 13\n",
        "train_data[:block_size+1]"
      ],
      "metadata": {
        "colab": {
          "base_uri": "https://localhost:8080/"
        },
        "id": "YihuP9ekDgO1",
        "outputId": "359b9edb-880e-4d69-8a8c-cf77a8cad959"
      },
      "execution_count": null,
      "outputs": [
        {
          "output_type": "execute_result",
          "data": {
            "text/plain": [
              "tensor([ 0,  0,  0, 34, 63, 61, 62,  1, 75, 70, 10,  1, 57, 72])"
            ]
          },
          "metadata": {},
          "execution_count": 9
        }
      ]
    },
    {
      "cell_type": "code",
      "source": [
        "x = train_data[:block_size]\n",
        "y = train_data[1:block_size+1]\n",
        "for t in range(block_size):\n",
        "    context = x[:t+1]\n",
        "    target = y[t]\n",
        "    print(f\"when input is {context} the target: {target}\")"
      ],
      "metadata": {
        "colab": {
          "base_uri": "https://localhost:8080/"
        },
        "id": "sHTfpQomFNiv",
        "outputId": "9e1d2458-caf8-4058-9cb6-09a083c6047c"
      },
      "execution_count": null,
      "outputs": [
        {
          "output_type": "stream",
          "name": "stdout",
          "text": [
            "when input is tensor([0]) the target: 0\n",
            "when input is tensor([0, 0]) the target: 0\n",
            "when input is tensor([0, 0, 0]) the target: 34\n",
            "when input is tensor([ 0,  0,  0, 34]) the target: 63\n",
            "when input is tensor([ 0,  0,  0, 34, 63]) the target: 61\n",
            "when input is tensor([ 0,  0,  0, 34, 63, 61]) the target: 62\n",
            "when input is tensor([ 0,  0,  0, 34, 63, 61, 62]) the target: 1\n",
            "when input is tensor([ 0,  0,  0, 34, 63, 61, 62,  1]) the target: 75\n",
            "when input is tensor([ 0,  0,  0, 34, 63, 61, 62,  1, 75]) the target: 70\n",
            "when input is tensor([ 0,  0,  0, 34, 63, 61, 62,  1, 75, 70]) the target: 10\n",
            "when input is tensor([ 0,  0,  0, 34, 63, 61, 62,  1, 75, 70, 10]) the target: 1\n",
            "when input is tensor([ 0,  0,  0, 34, 63, 61, 62,  1, 75, 70, 10,  1]) the target: 57\n",
            "when input is tensor([ 0,  0,  0, 34, 63, 61, 62,  1, 75, 70, 10,  1, 57]) the target: 72\n"
          ]
        }
      ]
    },
    {
      "cell_type": "code",
      "source": [
        "torch.manual_seed(1337)\n",
        "batch_size = 4 # how many independent sequences will we process in parallel?\n",
        "block_size = 13 # what is the maximum context length for predictions?\n",
        "\n",
        "def get_batch(split):\n",
        "    # generate a small batch of data of inputs x and targets y\n",
        "    data = train_data if split == 'train' else val_data\n",
        "    ix = torch.randint(len(data) - block_size, (batch_size,))\n",
        "    x = torch.stack([data[i:i+block_size] for i in ix])\n",
        "    y = torch.stack([data[i+1:i+block_size+1] for i in ix])\n",
        "    return x, y\n",
        "\n",
        "xb, yb = get_batch('train')\n",
        "print('inputs:')\n",
        "print(xb.shape)\n",
        "print(xb)\n",
        "print('targets:')\n",
        "print(yb.shape)\n",
        "print(yb)\n",
        "\n",
        "print('----')\n",
        "\n",
        "for b in range(batch_size): # batch dimension\n",
        "    for t in range(block_size): # time dimension\n",
        "        context = xb[b, :t+1]\n",
        "        target = yb[b,t]\n",
        "        print(f\"when input is {context.tolist()} the target: {target}\")"
      ],
      "metadata": {
        "colab": {
          "base_uri": "https://localhost:8080/"
        },
        "id": "NrHqQwGnN-IF",
        "outputId": "8974cbdc-1e80-4ee9-c89a-a4e39631e212"
      },
      "execution_count": null,
      "outputs": [
        {
          "output_type": "stream",
          "name": "stdout",
          "text": [
            "inputs:\n",
            "torch.Size([4, 13])\n",
            "tensor([[72, 63, 57, 55, 66,  1, 74, 69, 77, 59, 72, 73,  1],\n",
            "        [57, 55, 67, 59, 66,  1, 58, 72, 63, 76, 59, 72, 73],\n",
            "        [59, 63, 72,  1, 60, 55, 72,  1, 74, 69, 69,  1, 67],\n",
            "        [72, 61, 63, 68, 61,  1, 57, 75, 72, 72, 59, 68, 74]])\n",
            "targets:\n",
            "torch.Size([4, 13])\n",
            "tensor([[63, 57, 55, 66,  1, 74, 69, 77, 59, 72, 73,  1, 77],\n",
            "        [55, 67, 59, 66,  1, 58, 72, 63, 76, 59, 72, 73,  1],\n",
            "        [63, 72,  1, 60, 55, 72,  1, 74, 69, 69,  1, 67, 59],\n",
            "        [61, 63, 68, 61,  1, 57, 75, 72, 72, 59, 68, 74,  0]])\n",
            "----\n",
            "when input is [72] the target: 63\n",
            "when input is [72, 63] the target: 57\n",
            "when input is [72, 63, 57] the target: 55\n",
            "when input is [72, 63, 57, 55] the target: 66\n",
            "when input is [72, 63, 57, 55, 66] the target: 1\n",
            "when input is [72, 63, 57, 55, 66, 1] the target: 74\n",
            "when input is [72, 63, 57, 55, 66, 1, 74] the target: 69\n",
            "when input is [72, 63, 57, 55, 66, 1, 74, 69] the target: 77\n",
            "when input is [72, 63, 57, 55, 66, 1, 74, 69, 77] the target: 59\n",
            "when input is [72, 63, 57, 55, 66, 1, 74, 69, 77, 59] the target: 72\n",
            "when input is [72, 63, 57, 55, 66, 1, 74, 69, 77, 59, 72] the target: 73\n",
            "when input is [72, 63, 57, 55, 66, 1, 74, 69, 77, 59, 72, 73] the target: 1\n",
            "when input is [72, 63, 57, 55, 66, 1, 74, 69, 77, 59, 72, 73, 1] the target: 77\n",
            "when input is [57] the target: 55\n",
            "when input is [57, 55] the target: 67\n",
            "when input is [57, 55, 67] the target: 59\n",
            "when input is [57, 55, 67, 59] the target: 66\n",
            "when input is [57, 55, 67, 59, 66] the target: 1\n",
            "when input is [57, 55, 67, 59, 66, 1] the target: 58\n",
            "when input is [57, 55, 67, 59, 66, 1, 58] the target: 72\n",
            "when input is [57, 55, 67, 59, 66, 1, 58, 72] the target: 63\n",
            "when input is [57, 55, 67, 59, 66, 1, 58, 72, 63] the target: 76\n",
            "when input is [57, 55, 67, 59, 66, 1, 58, 72, 63, 76] the target: 59\n",
            "when input is [57, 55, 67, 59, 66, 1, 58, 72, 63, 76, 59] the target: 72\n",
            "when input is [57, 55, 67, 59, 66, 1, 58, 72, 63, 76, 59, 72] the target: 73\n",
            "when input is [57, 55, 67, 59, 66, 1, 58, 72, 63, 76, 59, 72, 73] the target: 1\n",
            "when input is [59] the target: 63\n",
            "when input is [59, 63] the target: 72\n",
            "when input is [59, 63, 72] the target: 1\n",
            "when input is [59, 63, 72, 1] the target: 60\n",
            "when input is [59, 63, 72, 1, 60] the target: 55\n",
            "when input is [59, 63, 72, 1, 60, 55] the target: 72\n",
            "when input is [59, 63, 72, 1, 60, 55, 72] the target: 1\n",
            "when input is [59, 63, 72, 1, 60, 55, 72, 1] the target: 74\n",
            "when input is [59, 63, 72, 1, 60, 55, 72, 1, 74] the target: 69\n",
            "when input is [59, 63, 72, 1, 60, 55, 72, 1, 74, 69] the target: 69\n",
            "when input is [59, 63, 72, 1, 60, 55, 72, 1, 74, 69, 69] the target: 1\n",
            "when input is [59, 63, 72, 1, 60, 55, 72, 1, 74, 69, 69, 1] the target: 67\n",
            "when input is [59, 63, 72, 1, 60, 55, 72, 1, 74, 69, 69, 1, 67] the target: 59\n",
            "when input is [72] the target: 61\n",
            "when input is [72, 61] the target: 63\n",
            "when input is [72, 61, 63] the target: 68\n",
            "when input is [72, 61, 63, 68] the target: 61\n",
            "when input is [72, 61, 63, 68, 61] the target: 1\n",
            "when input is [72, 61, 63, 68, 61, 1] the target: 57\n",
            "when input is [72, 61, 63, 68, 61, 1, 57] the target: 75\n",
            "when input is [72, 61, 63, 68, 61, 1, 57, 75] the target: 72\n",
            "when input is [72, 61, 63, 68, 61, 1, 57, 75, 72] the target: 72\n",
            "when input is [72, 61, 63, 68, 61, 1, 57, 75, 72, 72] the target: 59\n",
            "when input is [72, 61, 63, 68, 61, 1, 57, 75, 72, 72, 59] the target: 68\n",
            "when input is [72, 61, 63, 68, 61, 1, 57, 75, 72, 72, 59, 68] the target: 74\n",
            "when input is [72, 61, 63, 68, 61, 1, 57, 75, 72, 72, 59, 68, 74] the target: 0\n"
          ]
        }
      ]
    },
    {
      "cell_type": "code",
      "source": [
        "print(xb) # our input to the transformer"
      ],
      "metadata": {
        "colab": {
          "base_uri": "https://localhost:8080/"
        },
        "id": "GUJ00yLMOFCU",
        "outputId": "eccc7915-75db-4c27-b30b-587e4b395c0f"
      },
      "execution_count": null,
      "outputs": [
        {
          "output_type": "stream",
          "name": "stdout",
          "text": [
            "tensor([[72, 63, 57, 55, 66,  1, 74, 69, 77, 59, 72, 73,  1],\n",
            "        [57, 55, 67, 59, 66,  1, 58, 72, 63, 76, 59, 72, 73],\n",
            "        [59, 63, 72,  1, 60, 55, 72,  1, 74, 69, 69,  1, 67],\n",
            "        [72, 61, 63, 68, 61,  1, 57, 75, 72, 72, 59, 68, 74]])\n"
          ]
        }
      ]
    },
    {
      "cell_type": "code",
      "source": [
        "import torch\n",
        "import torch.nn as nn\n",
        "from torch.nn import functional as F\n",
        "torch.manual_seed(1337)\n",
        "\n",
        "class BigramLanguageModel(nn.Module):\n",
        "\n",
        "    def __init__(self, vocab_size):\n",
        "        super().__init__()\n",
        "        # each token directly reads off the logits for the next token from a lookup table\n",
        "        self.token_embedding_table = nn.Embedding(vocab_size, vocab_size)\n",
        "\n",
        "    def forward(self, idx, targets=None):\n",
        "\n",
        "        # idx and targets are both (B,T) tensor of integers\n",
        "        logits = self.token_embedding_table(idx) # (B,T,C)\n",
        "        \n",
        "        if targets is None:\n",
        "            loss = None\n",
        "        else:\n",
        "            B, T, C = logits.shape\n",
        "            logits = logits.view(B*T, C)\n",
        "            targets = targets.view(B*T)\n",
        "            loss = F.cross_entropy(logits, targets)\n",
        "\n",
        "        return logits, loss\n",
        "    \n",
        "    def generate(self, idx, max_new_tokens):\n",
        "        # idx is (B, T) array of indices in the current context\n",
        "        for _ in range(max_new_tokens):\n",
        "            # get the predictions\n",
        "            logits, loss = self(idx)\n",
        "            # focus only on the last time step\n",
        "            logits = logits[:, -1, :] # becomes (B, C)\n",
        "            # apply softmax to get probabilities\n",
        "            probs = F.softmax(logits, dim=-1) # (B, C)\n",
        "            # sample from the distribution\n",
        "            idx_next = torch.multinomial(probs, num_samples=1) # (B, 1)\n",
        "            # append sampled index to the running sequence\n",
        "            idx = torch.cat((idx, idx_next), dim=1) # (B, T+1)\n",
        "        return idx\n",
        "\n",
        "m = BigramLanguageModel(vocab_size)\n",
        "logits, loss = m(xb, yb)\n",
        "print(logits.shape)\n",
        "print(loss)\n",
        "\n",
        "print(decode(m.generate(idx = torch.zeros((1, 1), dtype=torch.long), max_new_tokens=100)[0].tolist()))\n"
      ],
      "metadata": {
        "colab": {
          "base_uri": "https://localhost:8080/"
        },
        "id": "Q3ijeDPVSSwM",
        "outputId": "89f5d1c1-0193-4732-90c5-09d4784e7bcb"
      },
      "execution_count": null,
      "outputs": [
        {
          "output_type": "stream",
          "name": "stdout",
          "text": [
            "torch.Size([52, 129])\n",
            "tensor(5.2391, grad_fn=<NllLossBackward0>)\n",
            "\n",
            "V″,””,yAÉDèêBÆë”‘Väë6Fê6b″&U–‘tBÉyi\n",
            "r½N?×mK25RJqúéïÅQ”*.9zΝ½X¢jÁäv½w“‘Bn°S4ñ–íöGgXCB!ä”,Rzâ″Σ°•ywTa7\n"
          ]
        }
      ]
    },
    {
      "cell_type": "code",
      "source": [
        "# create a PyTorch optimizer\n",
        "optimizer = torch.optim.AdamW(m.parameters(), lr=1e-3)"
      ],
      "metadata": {
        "id": "HxfNHJyFSZ3h"
      },
      "execution_count": null,
      "outputs": []
    },
    {
      "cell_type": "code",
      "source": [
        "batch_size = 32\n",
        "for steps in range(10000): # increase number of steps for good results... \n",
        "    \n",
        "    # sample a batch of data\n",
        "    xb, yb = get_batch('train')\n",
        "\n",
        "    # evaluate the loss\n",
        "    logits, loss = m(xb, yb)\n",
        "    optimizer.zero_grad(set_to_none=True)\n",
        "    loss.backward()\n",
        "    optimizer.step()\n",
        "\n",
        "print(loss.item())\n"
      ],
      "metadata": {
        "colab": {
          "base_uri": "https://localhost:8080/"
        },
        "id": "dSypnR-7UX8b",
        "outputId": "6803f6da-b85c-4f8d-ea1d-8ec6b172f58c"
      },
      "execution_count": null,
      "outputs": [
        {
          "output_type": "stream",
          "name": "stdout",
          "text": [
            "2.470665216445923\n"
          ]
        }
      ]
    },
    {
      "cell_type": "code",
      "source": [
        "print(decode(m.generate(idx = torch.zeros((1, 1), dtype=torch.long), max_new_tokens=500)[0].tolist()))"
      ],
      "metadata": {
        "colab": {
          "base_uri": "https://localhost:8080/"
        },
        "id": "eU2AneGLUcAI",
        "outputId": "60377924-88ee-413c-e412-e982584220c8"
      },
      "execution_count": null,
      "outputs": [
        {
          "output_type": "stream",
          "name": "stdout",
          "text": [
            "\n",
            "Amurol hio f teyo St fionga s w, d ingis ppl afon, ano wns ite avated alll, he hende nc and\n",
            "end. fr66(adwin henlicem,\n",
            "“pnckerthero m thiasaremsmoiftw n\n",
            "s s I fio Calages wdeat odem olon Olanid hamyse be o\n",
            "fime. mety thun ter, I st f mey iche tee ptaser\n",
            "s’s tout abangndous cky\n",
            "t\n",
            "s t zalpsto ’std win B·Π’stedw lle plthing BedEs ctent, buth od t riprpare, intwe kndaricct\n",
            "se.\n",
            "sme\n",
            "tr aid ttwe pikeruthinerehe t’\n",
            "t ap d veatrer plila wiatore t ckid tit 1019 ed tethOGissthids focr thed thamawounas frowa\n"
          ]
        }
      ]
    },
    {
      "cell_type": "code",
      "source": [
        "# toy example illustrating how matrix multiplication can be used for a \"weighted aggregation\"\n",
        "torch.manual_seed(42)\n",
        "a = torch.tril(torch.ones(3, 3))\n",
        "a = a / torch.sum(a, 1, keepdim=True)\n",
        "b = torch.randint(0,10,(3,2)).float()\n",
        "c = a @ b\n",
        "print('a=')\n",
        "print(a)\n",
        "print('--')\n",
        "print('b=')\n",
        "print(b)\n",
        "print('--')\n",
        "print('c=')\n",
        "print(c)"
      ],
      "metadata": {
        "colab": {
          "base_uri": "https://localhost:8080/"
        },
        "id": "XDrCSelHVl5Z",
        "outputId": "2fd013d1-b320-415d-c224-5a6c44d62e29"
      },
      "execution_count": null,
      "outputs": [
        {
          "output_type": "stream",
          "name": "stdout",
          "text": [
            "a=\n",
            "tensor([[1.0000, 0.0000, 0.0000],\n",
            "        [0.5000, 0.5000, 0.0000],\n",
            "        [0.3333, 0.3333, 0.3333]])\n",
            "--\n",
            "b=\n",
            "tensor([[2., 7.],\n",
            "        [6., 4.],\n",
            "        [6., 5.]])\n",
            "--\n",
            "c=\n",
            "tensor([[2.0000, 7.0000],\n",
            "        [4.0000, 5.5000],\n",
            "        [4.6667, 5.3333]])\n"
          ]
        }
      ]
    },
    {
      "cell_type": "code",
      "source": [
        "# consider the following toy example:\n",
        "\n",
        "torch.manual_seed(1337)\n",
        "B,T,C = 4,8,2 # batch, time, channels\n",
        "x = torch.randn(B,T,C)\n",
        "x.shape"
      ],
      "metadata": {
        "colab": {
          "base_uri": "https://localhost:8080/"
        },
        "id": "p5efi8ABdcAz",
        "outputId": "b1e0514e-0eec-4916-bf3f-98620b703fb7"
      },
      "execution_count": null,
      "outputs": [
        {
          "output_type": "execute_result",
          "data": {
            "text/plain": [
              "torch.Size([4, 8, 2])"
            ]
          },
          "metadata": {},
          "execution_count": 18
        }
      ]
    },
    {
      "cell_type": "code",
      "source": [
        "# We want x[b,t] = mean_{i<=t} x[b,i]\n",
        "xbow = torch.zeros((B,T,C))\n",
        "for b in range(B):\n",
        "    for t in range(T):\n",
        "        xprev = x[b,:t+1] # (t,C)\n",
        "        xbow[b,t] = torch.mean(xprev, 0)"
      ],
      "metadata": {
        "id": "IxsZGbE9deVw"
      },
      "execution_count": null,
      "outputs": []
    },
    {
      "cell_type": "code",
      "source": [
        "# version 2: using matrix multiply for a weighted aggregation\n",
        "wei = torch.tril(torch.ones(T, T))\n",
        "wei = wei / wei.sum(1, keepdim=True)\n",
        "xbow2 = wei @ x # (B, T, T) @ (B, T, C) ----> (B, T, C)\n",
        "torch.allclose(xbow, xbow2)"
      ],
      "metadata": {
        "id": "boiv66rjdiaD",
        "colab": {
          "base_uri": "https://localhost:8080/"
        },
        "outputId": "7f07fae3-60b1-4749-d209-bd55cbbc7b42"
      },
      "execution_count": null,
      "outputs": [
        {
          "output_type": "execute_result",
          "data": {
            "text/plain": [
              "True"
            ]
          },
          "metadata": {},
          "execution_count": 20
        }
      ]
    },
    {
      "cell_type": "code",
      "source": [
        "# version 3: use Softmax\n",
        "tril = torch.tril(torch.ones(T, T))\n",
        "wei = torch.zeros((T,T))\n",
        "wei = wei.masked_fill(tril == 0, float('-inf'))\n",
        "wei = F.softmax(wei, dim=-1)\n",
        "xbow3 = wei @ x\n",
        "torch.allclose(xbow, xbow3)"
      ],
      "metadata": {
        "colab": {
          "base_uri": "https://localhost:8080/"
        },
        "id": "qU2yihwn_REF",
        "outputId": "05589122-8e94-42b9-9b2e-7ebd950b566e"
      },
      "execution_count": null,
      "outputs": [
        {
          "output_type": "execute_result",
          "data": {
            "text/plain": [
              "True"
            ]
          },
          "metadata": {},
          "execution_count": 21
        }
      ]
    },
    {
      "cell_type": "code",
      "source": [
        "# version 4: self-attention!\n",
        "torch.manual_seed(1337)\n",
        "B,T,C = 4,8,32 # batch, time, channels\n",
        "x = torch.randn(B,T,C)\n",
        "\n",
        "# let's see a single Head perform self-attention\n",
        "head_size = 16\n",
        "key = nn.Linear(C, head_size, bias=False)\n",
        "query = nn.Linear(C, head_size, bias=False)\n",
        "value = nn.Linear(C, head_size, bias=False)\n",
        "k = key(x)   # (B, T, 16)\n",
        "q = query(x) # (B, T, 16)\n",
        "wei =  q @ k.transpose(-2, -1) # (B, T, 16) @ (B, 16, T) ---> (B, T, T)\n",
        "\n",
        "tril = torch.tril(torch.ones(T, T))\n",
        "#wei = torch.zeros((T,T))\n",
        "wei = wei.masked_fill(tril == 0, float('-inf'))\n",
        "wei = F.softmax(wei, dim=-1)\n",
        "\n",
        "v = value(x)\n",
        "out = wei @ v\n",
        "#out = wei @ x\n",
        "\n",
        "out.shape"
      ],
      "metadata": {
        "colab": {
          "base_uri": "https://localhost:8080/"
        },
        "id": "GNbvb9H4Cn5J",
        "outputId": "8dbeade1-cb33-40dc-ec42-37a851ea7780"
      },
      "execution_count": null,
      "outputs": [
        {
          "output_type": "execute_result",
          "data": {
            "text/plain": [
              "torch.Size([4, 8, 16])"
            ]
          },
          "metadata": {},
          "execution_count": 22
        }
      ]
    },
    {
      "cell_type": "code",
      "source": [
        "wei[0]"
      ],
      "metadata": {
        "colab": {
          "base_uri": "https://localhost:8080/"
        },
        "id": "Wdap_oZLG6nL",
        "outputId": "91e8fb8a-78b6-4817-c9e9-ad7209d4fb99"
      },
      "execution_count": null,
      "outputs": [
        {
          "output_type": "execute_result",
          "data": {
            "text/plain": [
              "tensor([[1.0000, 0.0000, 0.0000, 0.0000, 0.0000, 0.0000, 0.0000, 0.0000],\n",
              "        [0.1574, 0.8426, 0.0000, 0.0000, 0.0000, 0.0000, 0.0000, 0.0000],\n",
              "        [0.2088, 0.1646, 0.6266, 0.0000, 0.0000, 0.0000, 0.0000, 0.0000],\n",
              "        [0.5792, 0.1187, 0.1889, 0.1131, 0.0000, 0.0000, 0.0000, 0.0000],\n",
              "        [0.0294, 0.1052, 0.0469, 0.0276, 0.7909, 0.0000, 0.0000, 0.0000],\n",
              "        [0.0176, 0.2689, 0.0215, 0.0089, 0.6812, 0.0019, 0.0000, 0.0000],\n",
              "        [0.1691, 0.4066, 0.0438, 0.0416, 0.1048, 0.2012, 0.0329, 0.0000],\n",
              "        [0.0210, 0.0843, 0.0555, 0.2297, 0.0573, 0.0709, 0.2423, 0.2391]],\n",
              "       grad_fn=<SelectBackward0>)"
            ]
          },
          "metadata": {},
          "execution_count": 23
        }
      ]
    },
    {
      "cell_type": "markdown",
      "source": [
        "Notes:\n",
        "- Attention is a **communication mechanism**. Can be seen as nodes in a directed graph looking at each other and aggregating information with a weighted sum from all nodes that point to them, with data-dependent weights.\n",
        "- There is no notion of space. Attention simply acts over a set of vectors. This is why we need to positionally encode tokens.\n",
        "- Each example across batch dimension is of course processed completely independently and never \"talk\" to each other\n",
        "- In an \"encoder\" attention block just delete the single line that does masking with `tril`, allowing all tokens to communicate. This block here is called a \"decoder\" attention block because it has triangular masking, and is usually used in autoregressive settings, like language modeling.\n",
        "- \"self-attention\" just means that the keys and values are produced from the same source as queries. In \"cross-attention\", the queries still get produced from x, but the keys and values come from some other, external source (e.g. an encoder module)\n",
        "- \"Scaled\" attention additional divides `wei` by 1/sqrt(head_size). This makes it so when input Q,K are unit variance, wei will be unit variance too and Softmax will stay diffuse and not saturate too much. Illustration below"
      ],
      "metadata": {
        "id": "-6lAbc7wG7s2"
      }
    },
    {
      "cell_type": "code",
      "source": [
        "k = torch.randn(B,T,head_size)\n",
        "q = torch.randn(B,T,head_size)\n",
        "wei = q @ k.transpose(-2, -1) * head_size**-0.5"
      ],
      "metadata": {
        "id": "UkkIYvk_G-bV"
      },
      "execution_count": null,
      "outputs": []
    },
    {
      "cell_type": "code",
      "source": [
        "k.var()"
      ],
      "metadata": {
        "colab": {
          "base_uri": "https://localhost:8080/"
        },
        "id": "aGX1MTuJIxcn",
        "outputId": "92f6b793-9d6a-427f-f307-a049ede14a80"
      },
      "execution_count": null,
      "outputs": [
        {
          "output_type": "execute_result",
          "data": {
            "text/plain": [
              "tensor(1.0449)"
            ]
          },
          "metadata": {},
          "execution_count": 25
        }
      ]
    },
    {
      "cell_type": "code",
      "source": [
        "q.var()"
      ],
      "metadata": {
        "colab": {
          "base_uri": "https://localhost:8080/"
        },
        "id": "Hn2u0DUCI0Ci",
        "outputId": "3416475b-2c4f-4e10-a31f-925fa67d4bd9"
      },
      "execution_count": null,
      "outputs": [
        {
          "output_type": "execute_result",
          "data": {
            "text/plain": [
              "tensor(1.0700)"
            ]
          },
          "metadata": {},
          "execution_count": 26
        }
      ]
    },
    {
      "cell_type": "code",
      "source": [
        "wei.var()"
      ],
      "metadata": {
        "colab": {
          "base_uri": "https://localhost:8080/"
        },
        "id": "scbfeXOjI3-x",
        "outputId": "37b0ad6b-2d30-4e56-e2f9-9ec4b8e3b27d"
      },
      "execution_count": null,
      "outputs": [
        {
          "output_type": "execute_result",
          "data": {
            "text/plain": [
              "tensor(1.0918)"
            ]
          },
          "metadata": {},
          "execution_count": 27
        }
      ]
    },
    {
      "cell_type": "code",
      "source": [
        "torch.softmax(torch.tensor([0.1, -0.2, 0.3, -0.2, 0.5]), dim=-1)"
      ],
      "metadata": {
        "colab": {
          "base_uri": "https://localhost:8080/"
        },
        "id": "HkvkHXNQJCCc",
        "outputId": "5107a420-9503-4623-ce99-60d6bc27d9a0"
      },
      "execution_count": null,
      "outputs": [
        {
          "output_type": "execute_result",
          "data": {
            "text/plain": [
              "tensor([0.1925, 0.1426, 0.2351, 0.1426, 0.2872])"
            ]
          },
          "metadata": {},
          "execution_count": 28
        }
      ]
    },
    {
      "cell_type": "code",
      "source": [
        "torch.softmax(torch.tensor([0.1, -0.2, 0.3, -0.2, 0.5])*8, dim=-1) # gets too peaky, converges to one-hot"
      ],
      "metadata": {
        "colab": {
          "base_uri": "https://localhost:8080/"
        },
        "id": "bFsGeRfPJFnL",
        "outputId": "08abff4d-5ad4-4204-e843-98ae16382670"
      },
      "execution_count": null,
      "outputs": [
        {
          "output_type": "execute_result",
          "data": {
            "text/plain": [
              "tensor([0.0326, 0.0030, 0.1615, 0.0030, 0.8000])"
            ]
          },
          "metadata": {},
          "execution_count": 29
        }
      ]
    },
    {
      "cell_type": "code",
      "source": [
        "class LayerNorm1d: # (used to be BatchNorm1d)\n",
        "  \n",
        "  def __init__(self, dim, eps=1e-5, momentum=0.1):\n",
        "    self.eps = eps\n",
        "    self.gamma = torch.ones(dim)\n",
        "    self.beta = torch.zeros(dim)\n",
        "  \n",
        "  def __call__(self, x):\n",
        "    # calculate the forward pass\n",
        "    xmean = x.mean(1, keepdim=True) # batch mean\n",
        "    xvar = x.var(1, keepdim=True) # batch variance\n",
        "    xhat = (x - xmean) / torch.sqrt(xvar + self.eps) # normalize to unit variance\n",
        "    self.out = self.gamma * xhat + self.beta\n",
        "    return self.out\n",
        "  \n",
        "  def parameters(self):\n",
        "    return [self.gamma, self.beta]\n",
        "\n",
        "torch.manual_seed(1337)\n",
        "module = LayerNorm1d(100)\n",
        "x = torch.randn(32, 100) # batch size 32 of 100-dimensional vectors\n",
        "x = module(x)\n",
        "x.shape"
      ],
      "metadata": {
        "colab": {
          "base_uri": "https://localhost:8080/"
        },
        "id": "k_dpMthfdrq4",
        "outputId": "ca258f6e-23ec-446e-df26-94ba0c486c65"
      },
      "execution_count": null,
      "outputs": [
        {
          "output_type": "execute_result",
          "data": {
            "text/plain": [
              "torch.Size([32, 100])"
            ]
          },
          "metadata": {},
          "execution_count": 30
        }
      ]
    },
    {
      "cell_type": "code",
      "source": [
        "x[:,0].mean(), x[:,0].std() # mean,std of one feature across all batch inputs"
      ],
      "metadata": {
        "colab": {
          "base_uri": "https://localhost:8080/"
        },
        "id": "Jpnm9hi5dwC2",
        "outputId": "9c37dcb5-cc32-497e-e9c8-8d9d2c98c6f9"
      },
      "execution_count": null,
      "outputs": [
        {
          "output_type": "execute_result",
          "data": {
            "text/plain": [
              "(tensor(0.1469), tensor(0.8803))"
            ]
          },
          "metadata": {},
          "execution_count": 31
        }
      ]
    },
    {
      "cell_type": "code",
      "source": [
        "x[0,:].mean(), x[0,:].std() # mean,std of a single input from the batch, of its features"
      ],
      "metadata": {
        "colab": {
          "base_uri": "https://localhost:8080/"
        },
        "id": "FEgySLfSdyVZ",
        "outputId": "18a7e6ee-cb15-4232-bce3-a12d2aa0ff0f"
      },
      "execution_count": null,
      "outputs": [
        {
          "output_type": "execute_result",
          "data": {
            "text/plain": [
              "(tensor(-9.5367e-09), tensor(1.0000))"
            ]
          },
          "metadata": {},
          "execution_count": 32
        }
      ]
    },
    {
      "cell_type": "code",
      "source": [
        "import torch\n",
        "import torch.nn as nn\n",
        "from torch.nn import functional as F\n",
        "\n",
        "# hyperparameters\n",
        "batch_size = 64 # how many independent sequences will we process in parallel?\n",
        "block_size = 256 # what is the maximum context length for predictions?\n",
        "max_iters = 15000\n",
        "eval_interval = 500\n",
        "learning_rate = 3e-4\n",
        "device = 'cuda' if torch.cuda.is_available() else 'cpu'\n",
        "eval_iters = 200\n",
        "n_embd = 384\n",
        "n_head = 6\n",
        "n_layer = 6\n",
        "dropout = 0.2\n",
        "# ------------\n",
        "\n",
        "torch.manual_seed(1337)\n",
        "\n",
        "# wget https://raw.githubusercontent.com/karpathy/char-rnn/master/data/tinyshakespeare/input.txt\n",
        "with open('/content/drive/My Drive/concat.txt', 'r', encoding='utf-8') as f:\n",
        "    text = f.read()\n",
        "\n",
        "# here are all the unique characters that occur in this text\n",
        "chars = sorted(list(set(text)))\n",
        "vocab_size = len(chars)\n",
        "# create a mapping from characters to integers\n",
        "stoi = { ch:i for i,ch in enumerate(chars) }\n",
        "itos = { i:ch for i,ch in enumerate(chars) }\n",
        "encode = lambda s: [stoi[c] for c in s] # encoder: take a string, output a list of integers\n",
        "decode = lambda l: ''.join([itos[i] for i in l]) # decoder: take a list of integers, output a string\n",
        "\n",
        "# Train and test splits\n",
        "data = torch.tensor(encode(text), dtype=torch.long)\n",
        "n = int(0.9*len(data)) # first 90% will be train, rest val\n",
        "train_data = data[:n]\n",
        "val_data = data[n:]\n",
        "\n",
        "# data loading\n",
        "def get_batch(split):\n",
        "    # generate a small batch of data of inputs x and targets y\n",
        "    data = train_data if split == 'train' else val_data\n",
        "    ix = torch.randint(len(data) - block_size, (batch_size,))\n",
        "    x = torch.stack([data[i:i+block_size] for i in ix])\n",
        "    y = torch.stack([data[i+1:i+block_size+1] for i in ix])\n",
        "    x, y = x.to(device), y.to(device)\n",
        "    return x, y\n",
        "\n",
        "@torch.no_grad()\n",
        "def estimate_loss():\n",
        "    out = {}\n",
        "    model.eval()\n",
        "    for split in ['train', 'val']:\n",
        "        losses = torch.zeros(eval_iters)\n",
        "        for k in range(eval_iters):\n",
        "            X, Y = get_batch(split)\n",
        "            logits, loss = model(X, Y)\n",
        "            losses[k] = loss.item()\n",
        "        out[split] = losses.mean()\n",
        "    model.train()\n",
        "    return out\n",
        "\n",
        "class Head(nn.Module):\n",
        "    \"\"\" one head of self-attention \"\"\"\n",
        "\n",
        "    def __init__(self, head_size):\n",
        "        super().__init__()\n",
        "        self.key = nn.Linear(n_embd, head_size, bias=False)\n",
        "        self.query = nn.Linear(n_embd, head_size, bias=False)\n",
        "        self.value = nn.Linear(n_embd, head_size, bias=False)\n",
        "        self.register_buffer('tril', torch.tril(torch.ones(block_size, block_size)))\n",
        "\n",
        "        self.dropout = nn.Dropout(dropout)\n",
        "\n",
        "    def forward(self, x):\n",
        "        # input of size (batch, time-step, channels)\n",
        "        # output of size (batch, time-step, head size)\n",
        "        B,T,C = x.shape\n",
        "        k = self.key(x)   # (B,T,hs)\n",
        "        q = self.query(x) # (B,T,hs)\n",
        "        # compute attention scores (\"affinities\")\n",
        "        wei = q @ k.transpose(-2,-1) * k.shape[-1]**-0.5 # (B, T, hs) @ (B, hs, T) -> (B, T, T)\n",
        "        wei = wei.masked_fill(self.tril[:T, :T] == 0, float('-inf')) # (B, T, T)\n",
        "        wei = F.softmax(wei, dim=-1) # (B, T, T)\n",
        "        wei = self.dropout(wei)\n",
        "        # perform the weighted aggregation of the values\n",
        "        v = self.value(x) # (B,T,hs)\n",
        "        out = wei @ v # (B, T, T) @ (B, T, hs) -> (B, T, hs)\n",
        "        return out\n",
        "\n",
        "class MultiHeadAttention(nn.Module):\n",
        "    \"\"\" multiple heads of self-attention in parallel \"\"\"\n",
        "\n",
        "    def __init__(self, num_heads, head_size):\n",
        "        super().__init__()\n",
        "        self.heads = nn.ModuleList([Head(head_size) for _ in range(num_heads)])\n",
        "        self.proj = nn.Linear(head_size * num_heads, n_embd)\n",
        "        self.dropout = nn.Dropout(dropout)\n",
        "\n",
        "    def forward(self, x):\n",
        "        out = torch.cat([h(x) for h in self.heads], dim=-1)\n",
        "        out = self.dropout(self.proj(out))\n",
        "        return out\n",
        "\n",
        "class FeedFoward(nn.Module):\n",
        "    \"\"\" a simple linear layer followed by a non-linearity \"\"\"\n",
        "\n",
        "    def __init__(self, n_embd):\n",
        "        super().__init__()\n",
        "        self.net = nn.Sequential(\n",
        "            nn.Linear(n_embd, 4 * n_embd),\n",
        "            nn.ReLU(),\n",
        "            nn.Linear(4 * n_embd, n_embd),\n",
        "            nn.Dropout(dropout),\n",
        "        )\n",
        "\n",
        "    def forward(self, x):\n",
        "        return self.net(x)\n",
        "\n",
        "class Block(nn.Module):\n",
        "    \"\"\" Transformer block: communication followed by computation \"\"\"\n",
        "\n",
        "    def __init__(self, n_embd, n_head):\n",
        "        # n_embd: embedding dimension, n_head: the number of heads we'd like\n",
        "        super().__init__()\n",
        "        head_size = n_embd // n_head\n",
        "        self.sa = MultiHeadAttention(n_head, head_size)\n",
        "        self.ffwd = FeedFoward(n_embd)\n",
        "        self.ln1 = nn.LayerNorm(n_embd)\n",
        "        self.ln2 = nn.LayerNorm(n_embd)\n",
        "\n",
        "    def forward(self, x):\n",
        "        x = x + self.sa(self.ln1(x))\n",
        "        x = x + self.ffwd(self.ln2(x))\n",
        "        return x\n",
        "\n",
        "class GPTLanguageModel(nn.Module):\n",
        "\n",
        "    def __init__(self):\n",
        "        super().__init__()\n",
        "        # each token directly reads off the logits for the next token from a lookup table\n",
        "        self.token_embedding_table = nn.Embedding(vocab_size, n_embd)\n",
        "        self.position_embedding_table = nn.Embedding(block_size, n_embd)\n",
        "        self.blocks = nn.Sequential(*[Block(n_embd, n_head=n_head) for _ in range(n_layer)])\n",
        "        self.ln_f = nn.LayerNorm(n_embd) # final layer norm\n",
        "        self.lm_head = nn.Linear(n_embd, vocab_size)\n",
        "\n",
        "        # better init, not covered in the original GPT video, but important, will cover in followup video\n",
        "        self.apply(self._init_weights)\n",
        "\n",
        "    def _init_weights(self, module):\n",
        "        if isinstance(module, nn.Linear):\n",
        "            torch.nn.init.normal_(module.weight, mean=0.0, std=0.02)\n",
        "            if module.bias is not None:\n",
        "                torch.nn.init.zeros_(module.bias)\n",
        "        elif isinstance(module, nn.Embedding):\n",
        "            torch.nn.init.normal_(module.weight, mean=0.0, std=0.02)\n",
        "\n",
        "    def forward(self, idx, targets=None):\n",
        "        B, T = idx.shape\n",
        "\n",
        "        # idx and targets are both (B,T) tensor of integers\n",
        "        tok_emb = self.token_embedding_table(idx) # (B,T,C)\n",
        "        pos_emb = self.position_embedding_table(torch.arange(T, device=device)) # (T,C)\n",
        "        x = tok_emb + pos_emb # (B,T,C)\n",
        "        x = self.blocks(x) # (B,T,C)\n",
        "        x = self.ln_f(x) # (B,T,C)\n",
        "        logits = self.lm_head(x) # (B,T,vocab_size)\n",
        "\n",
        "        if targets is None:\n",
        "            loss = None\n",
        "        else:\n",
        "            B, T, C = logits.shape\n",
        "            logits = logits.view(B*T, C)\n",
        "            targets = targets.view(B*T)\n",
        "            loss = F.cross_entropy(logits, targets)\n",
        "\n",
        "        return logits, loss\n",
        "\n",
        "    def generate(self, idx, max_new_tokens):\n",
        "        # idx is (B, T) array of indices in the current context\n",
        "        for _ in range(max_new_tokens):\n",
        "            # crop idx to the last block_size tokens\n",
        "            idx_cond = idx[:, -block_size:]\n",
        "            # get the predictions\n",
        "            logits, loss = self(idx_cond)\n",
        "            # focus only on the last time step\n",
        "            logits = logits[:, -1, :] # becomes (B, C)\n",
        "            # apply softmax to get probabilities\n",
        "            probs = F.softmax(logits, dim=-1) # (B, C)\n",
        "            # sample from the distribution\n",
        "            idx_next = torch.multinomial(probs, num_samples=1) # (B, 1)\n",
        "            # append sampled index to the running sequence\n",
        "            idx = torch.cat((idx, idx_next), dim=1) # (B, T+1)\n",
        "        return idx\n",
        "\n",
        "model = GPTLanguageModel()\n",
        "m = model.to(device)\n",
        "# print the number of parameters in the model\n",
        "print(sum(p.numel() for p in m.parameters())/1e6, 'M parameters')\n",
        "\n",
        "# create a PyTorch optimizer\n",
        "optimizer = torch.optim.AdamW(model.parameters(), lr=learning_rate)\n",
        "\n",
        "for iter in range(max_iters):\n",
        "\n",
        "    # every once in a while evaluate the loss on train and val sets\n",
        "    if iter % eval_interval == 0 or iter == max_iters - 1:\n",
        "        losses = estimate_loss()\n",
        "        print(f\"step {iter}: train loss {losses['train']:.4f}, val loss {losses['val']:.4f}\")\n",
        "\n",
        "    # sample a batch of data\n",
        "    xb, yb = get_batch('train')\n",
        "\n",
        "    # evaluate the loss\n",
        "    logits, loss = model(xb, yb)\n",
        "    optimizer.zero_grad(set_to_none=True)\n",
        "    loss.backward()\n",
        "    optimizer.step()\n",
        "\n",
        "# generate from the model\n",
        "context = torch.zeros((1, 1), dtype=torch.long, device=device)\n",
        "print(decode(m.generate(context, max_new_tokens=2000)[0].tolist()))\n",
        "#open('more.txt', 'w').write(decode(m.generate(context, max_new_tokens=10000)[0].tolist()))"
      ],
      "metadata": {
        "colab": {
          "base_uri": "https://localhost:8080/"
        },
        "id": "UpugAXMdd1JM",
        "outputId": "f7c965aa-4c50-4359-c790-04690b979145"
      },
      "execution_count": null,
      "outputs": [
        {
          "output_type": "stream",
          "name": "stdout",
          "text": [
            "10.838145 M parameters\n",
            "step 0: train loss 4.9365, val loss 4.9354\n",
            "step 500: train loss 1.9038, val loss 1.9207\n",
            "step 1000: train loss 1.5246, val loss 1.5666\n",
            "step 1500: train loss 1.3772, val loss 1.4448\n",
            "step 2000: train loss 1.3053, val loss 1.3906\n",
            "step 2500: train loss 1.2631, val loss 1.3585\n",
            "step 3000: train loss 1.2275, val loss 1.3334\n",
            "step 3500: train loss 1.2061, val loss 1.3170\n",
            "step 4000: train loss 1.1808, val loss 1.3017\n",
            "step 4500: train loss 1.1678, val loss 1.2979\n",
            "step 5000: train loss 1.1505, val loss 1.2947\n",
            "step 5500: train loss 1.1342, val loss 1.2834\n",
            "step 6000: train loss 1.1200, val loss 1.2780\n",
            "step 6500: train loss 1.1089, val loss 1.2763\n",
            "step 7000: train loss 1.0985, val loss 1.2756\n",
            "step 7500: train loss 1.0884, val loss 1.2692\n",
            "step 8000: train loss 1.0775, val loss 1.2631\n",
            "step 8500: train loss 1.0689, val loss 1.2733\n",
            "step 9000: train loss 1.0574, val loss 1.2649\n",
            "step 9500: train loss 1.0480, val loss 1.2619\n",
            "step 10000: train loss 1.0392, val loss 1.2630\n",
            "step 10500: train loss 1.0312, val loss 1.2579\n",
            "step 11000: train loss 1.0248, val loss 1.2623\n",
            "step 11500: train loss 1.0144, val loss 1.2647\n",
            "step 12000: train loss 1.0073, val loss 1.2636\n",
            "step 12500: train loss 1.0017, val loss 1.2651\n",
            "step 13000: train loss 0.9924, val loss 1.2678\n",
            "step 13500: train loss 0.9832, val loss 1.2621\n",
            "step 14000: train loss 0.9794, val loss 1.2640\n",
            "step 14500: train loss 0.9700, val loss 1.2660\n",
            "step 14999: train loss 0.9664, val loss 1.2660\n",
            "\n",
            "the sert city most hushed threatening to purch dogs. Sometimes were secretive white on the hole\n",
            "of Mgeo’s marked Arab for losity and clining this hideous black man. Then, as many captive mie-rays\n",
            "fought with their tentation and train examining places.\n",
            "Once they seemed to question the drink of dream, irons, and such things\n",
            "of its. They remarked to outside, do not go to mulove their panels, told Carter howl he definitely\n",
            "keep with shocking and powers in all rifter the glow as he had his vanishment with a careful monotonous\n",
            "band? The bondages assured. Silent were truly, two\n",
            "marshalled frantically pointed around told them in gulf of dark places. On the other half-too\n",
            "seemed to rel peachers upon the drive abnormally had not followed him. They had, all slipped cautiously\n",
            "toward the spiky door was signal, so that his feetted evening the ancient path was buried from\n",
            "which lightless acres they would cross from the distant shadowy long-li2id places; and far discovered\n",
            "in the half-arc painted which philas and mushic was a key to that blundering past noxious at the\n",
            "sky.\n",
            "Vast, choked tin shranger and lonked door, stating the larn in a land on\n",
            "till the dark, half copping from the central doorway. Asranat-minnsk bethe advanced, though\n",
            "I tryckles had just tempted to fix myselated acution and oddly hopping to regard abandon\n",
            "me the mex headed. With an insistinct significance hided with the iron black car door-car and\n",
            "at once on, for it had contained a mental interner. It was rising quitetly, and that some question\n",
            "would go in a healthy story to what was not alive. With the evil road and servant fer in knoll\n",
            "of young family rran-off on this hill—others with the moon, horrible flyers\n",
            "and vine-green blasps, and listening-fielded aspect to discuss him to catch the sty on Ngranek\n",
            "Island that that was acknowed in the dark garden by decreasiner. It was though\n",
            "something did not suggest for a short turning and except the help It would be agreed to the\n",
            "profess and stopping the passage by an un\n"
          ]
        }
      ]
    }
  ]
}